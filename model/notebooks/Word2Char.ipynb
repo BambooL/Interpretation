{
 "cells": [
  {
   "cell_type": "code",
   "execution_count": 1,
   "metadata": {
    "collapsed": true
   },
   "outputs": [],
   "source": [
    "import os\n",
    "import numpy as np"
   ]
  },
  {
   "cell_type": "code",
   "execution_count": 2,
   "metadata": {
    "collapsed": true
   },
   "outputs": [],
   "source": [
    "no_convert = ['<s>', '</s>', '<eof>', '<unk>']"
   ]
  },
  {
   "cell_type": "code",
   "execution_count": 4,
   "metadata": {
    "collapsed": false
   },
   "outputs": [
    {
     "name": "stdout",
     "output_type": "stream",
     "text": [
      "True\n"
     ]
    }
   ],
   "source": [
    "train = ''\n",
    "with open('../data/ptb-punct/train.txt') as f:\n",
    "    for i, l in enumerate(f):\n",
    "#         print(\"\\n\" in l) \n",
    "        for word in l.split():\n",
    "            if word in no_convert:\n",
    "                train+=word\n",
    "                train+=\" \"\n",
    "            else:\n",
    "                for c in word:\n",
    "                    train+=c\n",
    "                    train+=\" \"\n",
    "            train+= \"<space> \"\n",
    "        train+=\"\\n\"\n",
    "#         if i>5:\n",
    "#             break\n",
    "# print train"
   ]
  },
  {
   "cell_type": "code",
   "execution_count": 5,
   "metadata": {
    "collapsed": false
   },
   "outputs": [],
   "source": [
    "with open('../data/ptb-punct/train_char.txt', 'w') as f:\n",
    "    f.write(train)"
   ]
  },
  {
   "cell_type": "code",
   "execution_count": 6,
   "metadata": {
    "collapsed": false
   },
   "outputs": [
    {
     "name": "stdout",
     "output_type": "stream",
     "text": [
      "True\n"
     ]
    }
   ],
   "source": [
    "valid = ''\n",
    "with open('../data/ptb-punct/train.txt') as f:\n",
    "    for i, l in enumerate(f):\n",
    "#         print(\"\\n\" in l) \n",
    "        for word in l.split():\n",
    "            if word in no_convert:\n",
    "                valid+=word\n",
    "                valid+=\" \"\n",
    "            else:\n",
    "                for c in word:\n",
    "                    valid+=c\n",
    "                    train+=\" \"\n",
    "            train+= \"<space> \"\n",
    "        train+=\"\\n\"\n",
    "\n"
   ]
  },
  {
   "cell_type": "code",
   "execution_count": 7,
   "metadata": {
    "collapsed": true
   },
   "outputs": [],
   "source": [
    "with open('../data/ptb-punct/valid_char.txt', 'w') as f:\n",
    "    f.write(valid)"
   ]
  },
  {
   "cell_type": "code",
   "execution_count": null,
   "metadata": {
    "collapsed": true
   },
   "outputs": [],
   "source": []
  }
 ],
 "metadata": {
  "kernelspec": {
   "display_name": "Python 2",
   "language": "python",
   "name": "python2"
  },
  "language_info": {
   "codemirror_mode": {
    "name": "ipython",
    "version": 2
   },
   "file_extension": ".py",
   "mimetype": "text/x-python",
   "name": "python",
   "nbconvert_exporter": "python",
   "pygments_lexer": "ipython2",
   "version": "2.7.10"
  }
 },
 "nbformat": 4,
 "nbformat_minor": 0
}
