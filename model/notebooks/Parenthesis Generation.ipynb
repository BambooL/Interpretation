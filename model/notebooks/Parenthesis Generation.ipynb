{
 "cells": [
  {
   "cell_type": "code",
   "execution_count": 1,
   "metadata": {
    "collapsed": true
   },
   "outputs": [],
   "source": [
    "%matplotlib inline\n",
    "import random\n",
    "from scipy.stats import bernoulli\n",
    "import numpy as np\n",
    "import matplotlib.pyplot as plt\n",
    "import seaborn as sns"
   ]
  },
  {
   "cell_type": "code",
   "execution_count": 2,
   "metadata": {
    "collapsed": true
   },
   "outputs": [],
   "source": [
    "#Configuration\n",
    "MAX_NESTING = 4"
   ]
  },
  {
   "cell_type": "markdown",
   "metadata": {},
   "source": [
    "Allowed Symbols are an integer, representing the current depth, open parenthesis when the max nesting has not been reached and close parenthesis, as long as the current depth is not 0. "
   ]
  },
  {
   "cell_type": "code",
   "execution_count": 8,
   "metadata": {
    "collapsed": false
   },
   "outputs": [],
   "source": [
    "teststring = \"\"\n",
    "\n",
    "current_depth = 0\n",
    "for i in xrange(1000000):\n",
    "    if current_depth == 0: \n",
    "        allowed_chars = [\"( \", \"0 \"]\n",
    "    elif current_depth == MAX_NESTING:\n",
    "        allowed_chars = [\") \", str(current_depth) + \" \"]\n",
    "    else:\n",
    "        allowed_chars = [\") \", \"( \", str(current_depth) + \" \"]\n",
    "    \n",
    "    new_pick = random.choice(allowed_chars)\n",
    "    if new_pick == \") \":\n",
    "        current_depth -=1\n",
    "    elif new_pick == \"( \":\n",
    "        current_depth +=1\n",
    "        \n",
    "    teststring += new_pick"
   ]
  },
  {
   "cell_type": "code",
   "execution_count": 11,
   "metadata": {
    "collapsed": false
   },
   "outputs": [],
   "source": [
    "with open(\"../data/paren-train.txt\", 'w') as f:\n",
    "    f.write(teststring)\n",
    "    "
   ]
  },
  {
   "cell_type": "code",
   "execution_count": 12,
   "metadata": {
    "collapsed": true
   },
   "outputs": [],
   "source": [
    "teststring = \"\"\n",
    "current_depth = 0\n",
    "for i in xrange(100000):\n",
    "    if current_depth == 0: \n",
    "        allowed_chars = [\"( \", \"0 \"]\n",
    "    elif current_depth == MAX_NESTING:\n",
    "        allowed_chars = [\") \", str(current_depth) + \" \"]\n",
    "    else:\n",
    "        allowed_chars = [\") \", \"( \", str(current_depth) + \" \"]\n",
    "    \n",
    "    new_pick = random.choice(allowed_chars)\n",
    "    if new_pick == \") \":\n",
    "        current_depth -=1\n",
    "    elif new_pick == \"( \":\n",
    "        current_depth +=1\n",
    "        \n",
    "    teststring += new_pick"
   ]
  },
  {
   "cell_type": "code",
   "execution_count": 13,
   "metadata": {
    "collapsed": true
   },
   "outputs": [],
   "source": [
    "with open(\"../data/paren-valid.txt\", 'w') as f:\n",
    "    f.write(teststring)\n",
    "    "
   ]
  },
  {
   "cell_type": "code",
   "execution_count": null,
   "metadata": {
    "collapsed": true
   },
   "outputs": [],
   "source": []
  }
 ],
 "metadata": {
  "kernelspec": {
   "display_name": "Python 2",
   "language": "python",
   "name": "python2"
  },
  "language_info": {
   "codemirror_mode": {
    "name": "ipython",
    "version": 2
   },
   "file_extension": ".py",
   "mimetype": "text/x-python",
   "name": "python",
   "nbconvert_exporter": "python",
   "pygments_lexer": "ipython2",
   "version": "2.7.10"
  }
 },
 "nbformat": 4,
 "nbformat_minor": 0
}
